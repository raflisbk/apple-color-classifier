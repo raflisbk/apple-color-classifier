{
 "cells": [
  {
   "cell_type": "code",
   "execution_count": 4,
   "metadata": {},
   "outputs": [],
   "source": [
    "import os\n",
    "import cv2\n",
    "import matplotlib.pyplot as plt\n",
    "from ultralytics import YOLO"
   ]
  },
  {
   "cell_type": "markdown",
   "metadata": {},
   "source": [
    "## Load Model"
   ]
  },
  {
   "cell_type": "code",
   "execution_count": 5,
   "metadata": {},
   "outputs": [],
   "source": [
    "model = YOLO('clasify_model.pt')"
   ]
  },
  {
   "cell_type": "markdown",
   "metadata": {},
   "source": [
    "## Implementasi Klasifikasi"
   ]
  },
  {
   "cell_type": "code",
   "execution_count": 6,
   "metadata": {},
   "outputs": [],
   "source": [
    "def classify_apples(image_path):\n",
    "    \n",
    "    image_name = os.path.splitext(os.path.basename(image_path))[0]\n",
    "    \n",
    "    output_base = f'output/{image_name}'\n",
    "    output_dirs = [f'{output_base}/red', f'{output_base}/yellow', f'{output_base}/green']\n",
    "    for folder in output_dirs:\n",
    "        os.makedirs(folder, exist_ok=True)\n",
    "\n",
    "    class_counters = {'red': 1, 'yellow': 1, 'green': 1}\n",
    "\n",
    "    img = cv2.imread(image_path)\n",
    "\n",
    "    results = model(img)\n",
    "\n",
    "    annotated_img = img.copy()\n",
    "\n",
    "    for result in results[0].boxes:\n",
    "        # Ekstrak informasi bounding box dan label\n",
    "        box = result.xyxy[0].cpu().numpy().astype(int)\n",
    "        label = int(result.cls.cpu().numpy())  \n",
    "\n",
    "        class_mapping = {0: 'green', 1: 'red', 2: 'yellow'}\n",
    "        class_label = class_mapping.get(label, 'unknown')\n",
    "\n",
    "        class_counter = class_counters[class_label]\n",
    "        class_counters[class_label] += 1\n",
    "\n",
    "        # Gambar bounding box pada gambar\n",
    "        color_map = {'red': (0, 0, 255), 'yellow': (0, 255, 255), 'green': (0, 255, 0)}\n",
    "        color = color_map.get(class_label, (255, 255, 255))\n",
    "        cv2.rectangle(annotated_img, (box[0], box[1]), (box[2], box[3]), color, 2)\n",
    "        cv2.putText(annotated_img, f\"{class_label} {class_counter}\", (box[0], box[1] - 10), cv2.FONT_HERSHEY_SIMPLEX, 0.5, color, 2)\n",
    "\n",
    "        crop_img = img[box[1]:box[3], box[0]:box[2]]\n",
    "\n",
    "\n",
    "        output_path = f'{output_base}/{class_label}/{class_label}_{class_counter}.jpg'\n",
    "        cv2.imwrite(output_path, crop_img)\n",
    "\n",
    "    \n",
    "    annotated_img_rgb = cv2.cvtColor(annotated_img, cv2.COLOR_BGR2RGB)\n",
    "\n",
    "    plt.figure(figsize=(10, 10))\n",
    "    plt.imshow(annotated_img_rgb)\n",
    "    plt.axis('off')\n",
    "    plt.title(f'Hasil deteksi objek: {image_name}')\n",
    "    plt.show()\n",
    "\n",
    "    annotated_output_path = f'{output_base}/annotated_{image_name}.jpg'\n",
    "    cv2.imwrite(annotated_output_path, annotated_img)\n",
    "\n",
    "    print(f\"Proses selesai! Gambar yang di crop disimpan dalam folder '{output_base}', dan gambar beranotasi disimpan sebagai '{annotated_output_path}'.\")"
   ]
  },
  {
   "cell_type": "code",
   "execution_count": null,
   "metadata": {},
   "outputs": [],
   "source": [
    "classify_apples('tes.jpg')"
   ]
  }
 ],
 "metadata": {
  "kernelspec": {
   "display_name": "sawit",
   "language": "python",
   "name": "python3"
  },
  "language_info": {
   "codemirror_mode": {
    "name": "ipython",
    "version": 3
   },
   "file_extension": ".py",
   "mimetype": "text/x-python",
   "name": "python",
   "nbconvert_exporter": "python",
   "pygments_lexer": "ipython3",
   "version": "3.11.11"
  }
 },
 "nbformat": 4,
 "nbformat_minor": 2
}
